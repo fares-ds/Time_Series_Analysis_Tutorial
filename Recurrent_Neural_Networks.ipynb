{
 "cells": [
  {
   "cell_type": "code",
   "execution_count": 42,
   "metadata": {},
   "outputs": [],
   "source": [
    "import pandas as pd\n",
    "import numpy as np\n",
    "import matplotlib.pyplot as plt"
   ]
  },
  {
   "cell_type": "code",
   "execution_count": 43,
   "metadata": {},
   "outputs": [],
   "source": [
    "x = np.linspace(0, 50, 501)\n",
    "y = np.sin(x)"
   ]
  },
  {
   "cell_type": "code",
   "execution_count": 44,
   "metadata": {},
   "outputs": [
    {
     "data": {
      "text/plain": [
       "[<matplotlib.lines.Line2D at 0x7fe844446bd0>]"
      ]
     },
     "execution_count": 44,
     "metadata": {},
     "output_type": "execute_result"
    },
    {
     "data": {
      "image/png": "[encoded data removed]",
      "text/plain": [
       "<Figure size 432x288 with 1 Axes>"
      ]
     },
     "metadata": {
      "needs_background": "light"
     },
     "output_type": "display_data"
    }
   ],
   "source": [
    "plt.plot(x, y)"
   ]
  },
  {
   "cell_type": "code",
   "execution_count": 45,
   "metadata": {},
   "outputs": [
    {
     "data": {
      "text/html": [
       "<div>\n",
       "<style scoped>\n",
       "    .dataframe tbody tr th:only-of-type {\n",
       "        vertical-align: middle;\n",
       "    }\n",
       "\n",
       "    .dataframe tbody tr th {\n",
       "        vertical-align: top;\n",
       "    }\n",
       "\n",
       "    .dataframe thead th {\n",
       "        text-align: right;\n",
       "    }\n",
       "</style>\n",
       "<table border=\"1\" class=\"dataframe\">\n",
       "  <thead>\n",
       "    <tr style=\"text-align: right;\">\n",
       "      <th></th>\n",
       "      <th>Sine</th>\n",
       "    </tr>\n",
       "  </thead>\n",
       "  <tbody>\n",
       "    <tr>\n",
       "      <th>0.0</th>\n",
       "      <td>0.000000</td>\n",
       "    </tr>\n",
       "    <tr>\n",
       "      <th>0.1</th>\n",
       "      <td>0.099833</td>\n",
       "    </tr>\n",
       "    <tr>\n",
       "      <th>0.2</th>\n",
       "      <td>0.198669</td>\n",
       "    </tr>\n",
       "    <tr>\n",
       "      <th>0.3</th>\n",
       "      <td>0.295520</td>\n",
       "    </tr>\n",
       "    <tr>\n",
       "      <th>0.4</th>\n",
       "      <td>0.389418</td>\n",
       "    </tr>\n",
       "    <tr>\n",
       "      <th>...</th>\n",
       "      <td>...</td>\n",
       "    </tr>\n",
       "    <tr>\n",
       "      <th>49.6</th>\n",
       "      <td>-0.617439</td>\n",
       "    </tr>\n",
       "    <tr>\n",
       "      <th>49.7</th>\n",
       "      <td>-0.535823</td>\n",
       "    </tr>\n",
       "    <tr>\n",
       "      <th>49.8</th>\n",
       "      <td>-0.448854</td>\n",
       "    </tr>\n",
       "    <tr>\n",
       "      <th>49.9</th>\n",
       "      <td>-0.357400</td>\n",
       "    </tr>\n",
       "    <tr>\n",
       "      <th>50.0</th>\n",
       "      <td>-0.262375</td>\n",
       "    </tr>\n",
       "  </tbody>\n",
       "</table>\n",
       "<p>501 rows × 1 columns</p>\n",
       "</div>"
      ],
      "text/plain": [
       "          Sine\n",
       "0.0   0.000000\n",
       "0.1   0.099833\n",
       "0.2   0.198669\n",
       "0.3   0.295520\n",
       "0.4   0.389418\n",
       "...        ...\n",
       "49.6 -0.617439\n",
       "49.7 -0.535823\n",
       "49.8 -0.448854\n",
       "49.9 -0.357400\n",
       "50.0 -0.262375\n",
       "\n",
       "[501 rows x 1 columns]"
      ]
     },
     "execution_count": 45,
     "metadata": {},
     "output_type": "execute_result"
    }
   ],
   "source": [
    "df = pd.DataFrame(data=y, index=x, columns=['Sine'])\n",
    "df"
   ]
  },
  {
   "cell_type": "code",
   "execution_count": 46,
   "metadata": {},
   "outputs": [
    {
     "data": {
      "text/plain": [
       "451"
      ]
     },
     "execution_count": 46,
     "metadata": {},
     "output_type": "execute_result"
    }
   ],
   "source": [
    "test_size = round(len(df) * 0.1)\n",
    "split_index = len(df) - test_size\n",
    "split_index"
   ]
  },
  {
   "cell_type": "code",
   "execution_count": 47,
   "metadata": {},
   "outputs": [],
   "source": [
    "train_df = df.iloc[:split_index]\n",
    "test_df = df.iloc[split_index:]"
   ]
  },
  {
   "cell_type": "code",
   "execution_count": 48,
   "metadata": {},
   "outputs": [
    {
     "data": {
      "text/html": [
       "<div>\n",
       "<style scoped>\n",
       "    .dataframe tbody tr th:only-of-type {\n",
       "        vertical-align: middle;\n",
       "    }\n",
       "\n",
       "    .dataframe tbody tr th {\n",
       "        vertical-align: top;\n",
       "    }\n",
       "\n",
       "    .dataframe thead th {\n",
       "        text-align: right;\n",
       "    }\n",
       "</style>\n",
       "<table border=\"1\" class=\"dataframe\">\n",
       "  <thead>\n",
       "    <tr style=\"text-align: right;\">\n",
       "      <th></th>\n",
       "      <th>Sine</th>\n",
       "    </tr>\n",
       "  </thead>\n",
       "  <tbody>\n",
       "    <tr>\n",
       "      <th>44.6</th>\n",
       "      <td>0.579164</td>\n",
       "    </tr>\n",
       "    <tr>\n",
       "      <th>44.7</th>\n",
       "      <td>0.657656</td>\n",
       "    </tr>\n",
       "    <tr>\n",
       "      <th>44.8</th>\n",
       "      <td>0.729577</td>\n",
       "    </tr>\n",
       "    <tr>\n",
       "      <th>44.9</th>\n",
       "      <td>0.794208</td>\n",
       "    </tr>\n",
       "    <tr>\n",
       "      <th>45.0</th>\n",
       "      <td>0.850904</td>\n",
       "    </tr>\n",
       "  </tbody>\n",
       "</table>\n",
       "</div>"
      ],
      "text/plain": [
       "          Sine\n",
       "44.6  0.579164\n",
       "44.7  0.657656\n",
       "44.8  0.729577\n",
       "44.9  0.794208\n",
       "45.0  0.850904"
      ]
     },
     "execution_count": 48,
     "metadata": {},
     "output_type": "execute_result"
    }
   ],
   "source": [
    "train_df.tail()"
   ]
  },
  {
   "cell_type": "code",
   "execution_count": 49,
   "metadata": {},
   "outputs": [
    {
     "data": {
      "text/html": [
       "<div>\n",
       "<style scoped>\n",
       "    .dataframe tbody tr th:only-of-type {\n",
       "        vertical-align: middle;\n",
       "    }\n",
       "\n",
       "    .dataframe tbody tr th {\n",
       "        vertical-align: top;\n",
       "    }\n",
       "\n",
       "    .dataframe thead th {\n",
       "        text-align: right;\n",
       "    }\n",
       "</style>\n",
       "<table border=\"1\" class=\"dataframe\">\n",
       "  <thead>\n",
       "    <tr style=\"text-align: right;\">\n",
       "      <th></th>\n",
       "      <th>Sine</th>\n",
       "    </tr>\n",
       "  </thead>\n",
       "  <tbody>\n",
       "    <tr>\n",
       "      <th>45.1</th>\n",
       "      <td>0.899097</td>\n",
       "    </tr>\n",
       "    <tr>\n",
       "      <th>45.2</th>\n",
       "      <td>0.938307</td>\n",
       "    </tr>\n",
       "    <tr>\n",
       "      <th>45.3</th>\n",
       "      <td>0.968142</td>\n",
       "    </tr>\n",
       "    <tr>\n",
       "      <th>45.4</th>\n",
       "      <td>0.988304</td>\n",
       "    </tr>\n",
       "    <tr>\n",
       "      <th>45.5</th>\n",
       "      <td>0.998591</td>\n",
       "    </tr>\n",
       "  </tbody>\n",
       "</table>\n",
       "</div>"
      ],
      "text/plain": [
       "          Sine\n",
       "45.1  0.899097\n",
       "45.2  0.938307\n",
       "45.3  0.968142\n",
       "45.4  0.988304\n",
       "45.5  0.998591"
      ]
     },
     "execution_count": 49,
     "metadata": {},
     "output_type": "execute_result"
    }
   ],
   "source": [
    "test_df.head()"
   ]
  },
  {
   "cell_type": "code",
   "execution_count": 50,
   "metadata": {},
   "outputs": [
    {
     "data": {
      "text/plain": [
       "(451, 1)"
      ]
     },
     "execution_count": 50,
     "metadata": {},
     "output_type": "execute_result"
    }
   ],
   "source": [
    "train_df.shape"
   ]
  },
  {
   "cell_type": "code",
   "execution_count": 51,
   "metadata": {},
   "outputs": [
    {
     "data": {
      "text/plain": [
       "(50, 1)"
      ]
     },
     "execution_count": 51,
     "metadata": {},
     "output_type": "execute_result"
    }
   ],
   "source": [
    "test_df.shape"
   ]
  },
  {
   "cell_type": "code",
   "execution_count": 52,
   "metadata": {},
   "outputs": [],
   "source": [
    "from sklearn.preprocessing import MinMaxScaler\n",
    "\n",
    "scaler = MinMaxScaler()\n",
    "scaler.fit(train_df)\n",
    "\n",
    "train = scaler.transform(train_df)\n",
    "test = scaler.transform(test_df)"
   ]
  },
  {
   "cell_type": "code",
   "execution_count": 53,
   "metadata": {},
   "outputs": [],
   "source": [
    "from tensorflow.keras.preprocessing.sequence import TimeseriesGenerator\n",
    "\n",
    "length = 2\n",
    "batch_size = 1\n",
    "generator = TimeseriesGenerator(train, train, length=length, batch_size=batch_size)"
   ]
  },
  {
   "cell_type": "code",
   "execution_count": 54,
   "metadata": {},
   "outputs": [
    {
     "data": {
      "text/plain": [
       "449"
      ]
     },
     "execution_count": 54,
     "metadata": {},
     "output_type": "execute_result"
    }
   ],
   "source": [
    "len(generator)"
   ]
  },
  {
   "cell_type": "code",
   "execution_count": 55,
   "metadata": {},
   "outputs": [],
   "source": [
    "X, y = generator[0]"
   ]
  },
  {
   "cell_type": "code",
   "execution_count": 56,
   "metadata": {},
   "outputs": [
    {
     "data": {
      "text/plain": [
       "array([0.49999912, 0.54991622])"
      ]
     },
     "execution_count": 56,
     "metadata": {},
     "output_type": "execute_result"
    }
   ],
   "source": [
    "X.flatten()"
   ]
  },
  {
   "cell_type": "code",
   "execution_count": 57,
   "metadata": {},
   "outputs": [
    {
     "data": {
      "text/plain": [
       "array([[0.59933458]])"
      ]
     },
     "execution_count": 57,
     "metadata": {},
     "output_type": "execute_result"
    }
   ],
   "source": [
    "y"
   ]
  },
  {
   "cell_type": "code",
   "execution_count": 58,
   "metadata": {},
   "outputs": [],
   "source": [
    "length = 10\n",
    "batch_size = 1\n",
    "generator = TimeseriesGenerator(train, train, length=length, batch_size=batch_size)"
   ]
  },
  {
   "cell_type": "code",
   "execution_count": 59,
   "metadata": {},
   "outputs": [],
   "source": [
    "X, y = generator[0]"
   ]
  },
  {
   "cell_type": "code",
   "execution_count": 60,
   "metadata": {},
   "outputs": [
    {
     "data": {
      "text/plain": [
       "array([[[0.49999912],\n",
       "        [0.54991622],\n",
       "        [0.59933458],\n",
       "        [0.64776041],\n",
       "        [0.69470985],\n",
       "        [0.73971381],\n",
       "        [0.78232262],\n",
       "        [0.82211054],\n",
       "        [0.85868004],\n",
       "        [0.89166571]]])"
      ]
     },
     "execution_count": 60,
     "metadata": {},
     "output_type": "execute_result"
    }
   ],
   "source": [
    "X"
   ]
  },
  {
   "cell_type": "code",
   "execution_count": 61,
   "metadata": {},
   "outputs": [
    {
     "data": {
      "text/plain": [
       "array([[0.92073798]])"
      ]
     },
     "execution_count": 61,
     "metadata": {},
     "output_type": "execute_result"
    }
   ],
   "source": [
    "y"
   ]
  },
  {
   "cell_type": "code",
   "execution_count": 62,
   "metadata": {},
   "outputs": [],
   "source": [
    "length = 50\n",
    "batch_size = 1\n",
    "generator = TimeseriesGenerator(train, train, length=length, batch_size=batch_size)"
   ]
  },
  {
   "cell_type": "code",
   "execution_count": 63,
   "metadata": {},
   "outputs": [],
   "source": [
    "from tensorflow.keras.models import Sequential\n",
    "from tensorflow.keras.layers import Dense, LSTM, SimpleRNN"
   ]
  },
  {
   "cell_type": "code",
   "execution_count": 64,
   "metadata": {},
   "outputs": [],
   "source": [
    "n_features = 1"
   ]
  },
  {
   "cell_type": "code",
   "execution_count": 65,
   "metadata": {},
   "outputs": [],
   "source": [
    "model = Sequential()\n",
    "\n",
    "model.add(SimpleRNN(50, input_shape=(length, n_features)))\n",
    "\n",
    "model.add(Dense(1))\n",
    "\n",
    "model.compile(optimizer='adam', loss='mse')"
   ]
  },
  {
   "cell_type": "code",
   "execution_count": 66,
   "metadata": {},
   "outputs": [
    {
     "name": "stdout",
     "output_type": "stream",
     "text": [
      "Model: \"sequential_1\"\n",
      "_________________________________________________________________\n",
      "Layer (type)                 Output Shape              Param #   \n",
      "=================================================================\n",
      "simple_rnn_1 (SimpleRNN)     (None, 50)                2600      \n",
      "_________________________________________________________________\n",
      "dense_1 (Dense)              (None, 1)                 51        \n",
      "=================================================================\n",
      "Total params: 2,651\n",
      "Trainable params: 2,651\n",
      "Non-trainable params: 0\n",
      "_________________________________________________________________\n"
     ]
    }
   ],
   "source": [
    "model.summary()"
   ]
  },
  {
   "cell_type": "code",
   "execution_count": 67,
   "metadata": {},
   "outputs": [
    {
     "name": "stdout",
     "output_type": "stream",
     "text": [
      "WARNING:tensorflow:sample_weight modes were coerced from\n",
      "  ...\n",
      "    to  \n",
      "  ['...']\n",
      "Train for 401 steps\n",
      "Epoch 1/15\n",
      "401/401 [==============================] - 25s 61ms/step - loss: 0.0037\n",
      "Epoch 2/15\n",
      "401/401 [==============================] - 23s 58ms/step - loss: 1.3951e-04\n",
      "Epoch 3/15\n",
      "401/401 [==============================] - 22s 54ms/step - loss: 1.7576e-04\n",
      "Epoch 4/15\n",
      "401/401 [==============================] - 22s 54ms/step - loss: 1.0293e-04\n",
      "Epoch 5/15\n",
      "401/401 [==============================] - 21s 52ms/step - loss: 7.3088e-05\n",
      "Epoch 6/15\n",
      "401/401 [==============================] - 21s 53ms/step - loss: 1.0063e-04\n",
      "Epoch 7/15\n",
      "401/401 [==============================] - 21s 53ms/step - loss: 4.8842e-05\n",
      "Epoch 8/15\n",
      "401/401 [==============================] - 21s 53ms/step - loss: 4.4041e-04\n",
      "Epoch 9/15\n",
      "401/401 [==============================] - 21s 53ms/step - loss: 8.0154e-06\n",
      "Epoch 10/15\n",
      "401/401 [==============================] - 21s 52ms/step - loss: 3.9819e-06\n",
      "Epoch 11/15\n",
      "401/401 [==============================] - 25s 61ms/step - loss: 2.4671e-05\n",
      "Epoch 12/15\n",
      "401/401 [==============================] - 26s 64ms/step - loss: 7.5998e-05\n",
      "Epoch 13/15\n",
      "401/401 [==============================] - 27s 67ms/step - loss: 3.8978e-05\n",
      "Epoch 14/15\n",
      "401/401 [==============================] - 26s 64ms/step - loss: 2.7273e-06\n",
      "Epoch 15/15\n",
      "401/401 [==============================] - 25s 63ms/step - loss: 1.2581e-04\n"
     ]
    },
    {
     "data": {
      "text/plain": [
       "<tensorflow.python.keras.callbacks.History at 0x7fe87c054c10>"
      ]
     },
     "execution_count": 67,
     "metadata": {},
     "output_type": "execute_result"
    }
   ],
   "source": [
    "model.fit(generator, epochs=15)"
   ]
  },
  {
   "cell_type": "code",
   "execution_count": 68,
   "metadata": {},
   "outputs": [
    {
     "data": {
      "text/plain": [
       "array([[8.37405820e-01],\n",
       "       [7.98881698e-01],\n",
       "       [7.57371240e-01],\n",
       "       [7.13289205e-01],\n",
       "       [6.67076045e-01],\n",
       "       [6.19193508e-01],\n",
       "       [5.70120021e-01],\n",
       "       [5.20345908e-01],\n",
       "       [4.70368497e-01],\n",
       "       [4.20687145e-01],\n",
       "       [3.71798252e-01],\n",
       "       [3.24190300e-01],\n",
       "       [2.78338972e-01],\n",
       "       [2.34702398e-01],\n",
       "       [1.93716581e-01],\n",
       "       [1.55791039e-01],\n",
       "       [1.21304709e-01],\n",
       "       [9.06021693e-02],\n",
       "       [6.39901882e-02],\n",
       "       [4.17346643e-02],\n",
       "       [2.40579672e-02],\n",
       "       [1.11367167e-02],\n",
       "       [3.10001778e-03],\n",
       "       [2.81703720e-05],\n",
       "       [1.95186738e-03],\n",
       "       [8.85188786e-03],\n",
       "       [2.06592891e-02],\n",
       "       [3.72560954e-02],\n",
       "       [5.84764771e-02],\n",
       "       [8.41084070e-02],\n",
       "       [1.13895779e-01],\n",
       "       [1.47540969e-01],\n",
       "       [1.84707803e-01],\n",
       "       [2.25024924e-01],\n",
       "       [2.68089497e-01],\n",
       "       [3.13471233e-01],\n",
       "       [3.60716695e-01],\n",
       "       [4.09353821e-01],\n",
       "       [4.58896644e-01],\n",
       "       [5.08850150e-01],\n",
       "       [5.58715219e-01],\n",
       "       [6.07993616e-01],\n",
       "       [6.56192968e-01],\n",
       "       [7.02831682e-01],\n",
       "       [7.47443761e-01],\n",
       "       [7.89583454e-01],\n",
       "       [8.28829716e-01],\n",
       "       [8.64790412e-01],\n",
       "       [8.97106234e-01],\n",
       "       [9.25454293e-01]])"
      ]
     },
     "execution_count": 68,
     "metadata": {},
     "output_type": "execute_result"
    }
   ],
   "source": [
    "first_eval_batch = train[-length:]\n",
    "first_eval_batch"
   ]
  },
  {
   "cell_type": "code",
   "execution_count": 69,
   "metadata": {},
   "outputs": [
    {
     "data": {
      "text/plain": [
       "array([[0.9437161]], dtype=float32)"
      ]
     },
     "execution_count": 69,
     "metadata": {},
     "output_type": "execute_result"
    }
   ],
   "source": [
    "first_eval_batch = first_eval_batch.reshape((1, length, n_features))\n",
    "\n",
    "model.predict(first_eval_batch)"
   ]
  },
  {
   "cell_type": "code",
   "execution_count": 70,
   "metadata": {},
   "outputs": [
    {
     "data": {
      "text/plain": [
       "array([0.94955134])"
      ]
     },
     "execution_count": 70,
     "metadata": {},
     "output_type": "execute_result"
    }
   ],
   "source": [
    "test[0]"
   ]
  },
  {
   "cell_type": "code",
   "execution_count": 71,
   "metadata": {},
   "outputs": [],
   "source": [
    "test_predictions = []\n",
    "\n",
    "first_eval_batch = train[-length:]\n",
    "current_batch = first_eval_batch.reshape((1, length, n_features))"
   ]
  },
  {
   "cell_type": "code",
   "execution_count": 72,
   "metadata": {},
   "outputs": [
    {
     "data": {
      "text/plain": [
       "(1, 50, 1)"
      ]
     },
     "execution_count": 72,
     "metadata": {},
     "output_type": "execute_result"
    }
   ],
   "source": [
    "current_batch.shape"
   ]
  },
  {
   "cell_type": "code",
   "execution_count": 73,
   "metadata": {},
   "outputs": [
    {
     "data": {
      "text/plain": [
       "array([[[8.37405820e-01],\n",
       "        [7.98881698e-01],\n",
       "        [7.57371240e-01],\n",
       "        [7.13289205e-01],\n",
       "        [6.67076045e-01],\n",
       "        [6.19193508e-01],\n",
       "        [5.70120021e-01],\n",
       "        [5.20345908e-01],\n",
       "        [4.70368497e-01],\n",
       "        [4.20687145e-01],\n",
       "        [3.71798252e-01],\n",
       "        [3.24190300e-01],\n",
       "        [2.78338972e-01],\n",
       "        [2.34702398e-01],\n",
       "        [1.93716581e-01],\n",
       "        [1.55791039e-01],\n",
       "        [1.21304709e-01],\n",
       "        [9.06021693e-02],\n",
       "        [6.39901882e-02],\n",
       "        [4.17346643e-02],\n",
       "        [2.40579672e-02],\n",
       "        [1.11367167e-02],\n",
       "        [3.10001778e-03],\n",
       "        [2.81703720e-05],\n",
       "        [1.95186738e-03],\n",
       "        [8.85188786e-03],\n",
       "        [2.06592891e-02],\n",
       "        [3.72560954e-02],\n",
       "        [5.84764771e-02],\n",
       "        [8.41084070e-02],\n",
       "        [1.13895779e-01],\n",
       "        [1.47540969e-01],\n",
       "        [1.84707803e-01],\n",
       "        [2.25024924e-01],\n",
       "        [2.68089497e-01],\n",
       "        [3.13471233e-01],\n",
       "        [3.60716695e-01],\n",
       "        [4.09353821e-01],\n",
       "        [4.58896644e-01],\n",
       "        [5.08850150e-01],\n",
       "        [5.58715219e-01],\n",
       "        [6.07993616e-01],\n",
       "        [6.56192968e-01],\n",
       "        [7.02831682e-01],\n",
       "        [7.47443761e-01],\n",
       "        [7.89583454e-01],\n",
       "        [8.28829716e-01],\n",
       "        [8.64790412e-01],\n",
       "        [8.97106234e-01],\n",
       "        [9.25454293e-01]]])"
      ]
     },
     "execution_count": 73,
     "metadata": {},
     "output_type": "execute_result"
    }
   ],
   "source": [
    "current_batch"
   ]
  },
  {
   "cell_type": "code",
   "execution_count": 74,
   "metadata": {},
   "outputs": [
    {
     "data": {
      "text/plain": [
       "array([[[7.98881698e-01],\n",
       "        [7.57371240e-01],\n",
       "        [7.13289205e-01],\n",
       "        [6.67076045e-01],\n",
       "        [6.19193508e-01],\n",
       "        [5.70120021e-01],\n",
       "        [5.20345908e-01],\n",
       "        [4.70368497e-01],\n",
       "        [4.20687145e-01],\n",
       "        [3.71798252e-01],\n",
       "        [3.24190300e-01],\n",
       "        [2.78338972e-01],\n",
       "        [2.34702398e-01],\n",
       "        [1.93716581e-01],\n",
       "        [1.55791039e-01],\n",
       "        [1.21304709e-01],\n",
       "        [9.06021693e-02],\n",
       "        [6.39901882e-02],\n",
       "        [4.17346643e-02],\n",
       "        [2.40579672e-02],\n",
       "        [1.11367167e-02],\n",
       "        [3.10001778e-03],\n",
       "        [2.81703720e-05],\n",
       "        [1.95186738e-03],\n",
       "        [8.85188786e-03],\n",
       "        [2.06592891e-02],\n",
       "        [3.72560954e-02],\n",
       "        [5.84764771e-02],\n",
       "        [8.41084070e-02],\n",
       "        [1.13895779e-01],\n",
       "        [1.47540969e-01],\n",
       "        [1.84707803e-01],\n",
       "        [2.25024924e-01],\n",
       "        [2.68089497e-01],\n",
       "        [3.13471233e-01],\n",
       "        [3.60716695e-01],\n",
       "        [4.09353821e-01],\n",
       "        [4.58896644e-01],\n",
       "        [5.08850150e-01],\n",
       "        [5.58715219e-01],\n",
       "        [6.07993616e-01],\n",
       "        [6.56192968e-01],\n",
       "        [7.02831682e-01],\n",
       "        [7.47443761e-01],\n",
       "        [7.89583454e-01],\n",
       "        [8.28829716e-01],\n",
       "        [8.64790412e-01],\n",
       "        [8.97106234e-01],\n",
       "        [9.25454293e-01],\n",
       "        [9.90000000e+01]]])"
      ]
     },
     "execution_count": 74,
     "metadata": {},
     "output_type": "execute_result"
    }
   ],
   "source": [
    "np.append(current_batch[:, 1:, :], [[[99]]], axis=1)"
   ]
  },
  {
   "cell_type": "code",
   "execution_count": 75,
   "metadata": {},
   "outputs": [],
   "source": [
    "test_predictions = []\n",
    "\n",
    "first_eval_batch = train[-length:]\n",
    "current_batch = first_eval_batch.reshape((1, length, n_features))\n",
    "\n",
    "for i in range(len(test)):\n",
    "    current_pred = model.predict(current_batch)[0]\n",
    "    test_predictions.append(current_pred)\n",
    "    current_batch = np.append(current_batch[:, 1:, :], [[current_pred]], axis=1)"
   ]
  },
  {
   "cell_type": "code",
   "execution_count": 76,
   "metadata": {},
   "outputs": [
    {
     "data": {
      "text/plain": [
       "[array([0.9437161], dtype=float32),\n",
       " array([0.9590639], dtype=float32),\n",
       " array([0.9682468], dtype=float32),\n",
       " array([0.97302705], dtype=float32),\n",
       " array([0.97165173], dtype=float32),\n",
       " array([0.9651663], dtype=float32),\n",
       " array([0.95364314], dtype=float32),\n",
       " array([0.9375533], dtype=float32),\n",
       " array([0.91638464], dtype=float32),\n",
       " array([0.8908453], dtype=float32),\n",
       " array([0.8613901], dtype=float32),\n",
       " array([0.82822746], dtype=float32),\n",
       " array([0.79209197], dtype=float32),\n",
       " array([0.7527354], dtype=float32),\n",
       " array([0.71067643], dtype=float32),\n",
       " array([0.6664708], dtype=float32),\n",
       " array([0.6199794], dtype=float32),\n",
       " array([0.5720012], dtype=float32),\n",
       " array([0.5227958], dtype=float32),\n",
       " array([0.4726307], dtype=float32),\n",
       " array([0.4218036], dtype=float32),\n",
       " array([0.3710356], dtype=float32),\n",
       " array([0.32054338], dtype=float32),\n",
       " array([0.27131972], dtype=float32),\n",
       " array([0.22296688], dtype=float32),\n",
       " array([0.17676777], dtype=float32),\n",
       " array([0.13270846], dtype=float32),\n",
       " array([0.09163921], dtype=float32),\n",
       " array([0.05382021], dtype=float32),\n",
       " array([0.01970022], dtype=float32),\n",
       " array([-0.01035845], dtype=float32),\n",
       " array([-0.03562674], dtype=float32),\n",
       " array([-0.05628158], dtype=float32),\n",
       " array([-0.07182228], dtype=float32),\n",
       " array([-0.08218201], dtype=float32),\n",
       " array([-0.08723982], dtype=float32),\n",
       " array([-0.08691457], dtype=float32),\n",
       " array([-0.08127267], dtype=float32),\n",
       " array([-0.07042225], dtype=float32),\n",
       " array([-0.0543844], dtype=float32),\n",
       " array([-0.03347219], dtype=float32),\n",
       " array([-0.007789], dtype=float32),\n",
       " array([0.02239625], dtype=float32),\n",
       " array([0.05660935], dtype=float32),\n",
       " array([0.0946228], dtype=float32),\n",
       " array([0.13619635], dtype=float32),\n",
       " array([0.18081301], dtype=float32),\n",
       " array([0.22828954], dtype=float32),\n",
       " array([0.2779343], dtype=float32),\n",
       " array([0.32952148], dtype=float32)]"
      ]
     },
     "execution_count": 76,
     "metadata": {},
     "output_type": "execute_result"
    }
   ],
   "source": [
    "test_predictions"
   ]
  },
  {
   "cell_type": "code",
   "execution_count": 77,
   "metadata": {},
   "outputs": [],
   "source": [
    "test_pred = scaler.inverse_transform(test_predictions)"
   ]
  },
  {
   "cell_type": "code",
   "execution_count": 78,
   "metadata": {},
   "outputs": [
    {
     "data": {
      "text/plain": [
       "array([[ 0.88742686],\n",
       "       [ 0.91812218],\n",
       "       [ 0.93648789],\n",
       "       [ 0.94604828],\n",
       "       [ 0.94329766],\n",
       "       [ 0.93032684],\n",
       "       [ 0.90728077],\n",
       "       [ 0.87510132],\n",
       "       [ 0.83276436],\n",
       "       [ 0.78168609],\n",
       "       [ 0.7227762 ],\n",
       "       [ 0.65645142],\n",
       "       [ 0.58418101],\n",
       "       [ 0.50546846],\n",
       "       [ 0.42135125],\n",
       "       [ 0.33294075],\n",
       "       [ 0.23995861],\n",
       "       [ 0.14400305],\n",
       "       [ 0.045593  ],\n",
       "       [-0.05473637],\n",
       "       [-0.15638979],\n",
       "       [-0.25792495],\n",
       "       [-0.35890859],\n",
       "       [-0.45735513],\n",
       "       [-0.55406003],\n",
       "       [-0.64645751],\n",
       "       [-0.73457542],\n",
       "       [-0.81671327],\n",
       "       [-0.89235065],\n",
       "       [-0.96059008],\n",
       "       [-1.02070694],\n",
       "       [-1.07124311],\n",
       "       [-1.11255247],\n",
       "       [-1.14363361],\n",
       "       [-1.1643529 ],\n",
       "       [-1.17446844],\n",
       "       [-1.17381795],\n",
       "       [-1.16253424],\n",
       "       [-1.14083359],\n",
       "       [-1.10875812],\n",
       "       [-1.06693405],\n",
       "       [-1.01556808],\n",
       "       [-0.95519806],\n",
       "       [-0.88677241],\n",
       "       [-0.81074613],\n",
       "       [-0.7275997 ],\n",
       "       [-0.63836708],\n",
       "       [-0.54341478],\n",
       "       [-0.44412604],\n",
       "       [-0.34095254]])"
      ]
     },
     "execution_count": 78,
     "metadata": {},
     "output_type": "execute_result"
    }
   ],
   "source": [
    "test_pred"
   ]
  },
  {
   "cell_type": "code",
   "execution_count": 79,
   "metadata": {},
   "outputs": [
    {
     "name": "stderr",
     "output_type": "stream",
     "text": [
      "/home/fares/anaconda3/lib/python3.7/site-packages/ipykernel_launcher.py:1: SettingWithCopyWarning: \n",
      "A value is trying to be set on a copy of a slice from a DataFrame.\n",
      "Try using .loc[row_indexer,col_indexer] = value instead\n",
      "\n",
      "See the caveats in the documentation: https://pandas.pydata.org/pandas-docs/stable/user_guide/indexing.html#returning-a-view-versus-a-copy\n",
      "  \"\"\"Entry point for launching an IPython kernel.\n"
     ]
    }
   ],
   "source": [
    "test_df['pred'] = test_pred"
   ]
  },
  {
   "cell_type": "code",
   "execution_count": 80,
   "metadata": {},
   "outputs": [
    {
     "data": {
      "text/html": [
       "<div>\n",
       "<style scoped>\n",
       "    .dataframe tbody tr th:only-of-type {\n",
       "        vertical-align: middle;\n",
       "    }\n",
       "\n",
       "    .dataframe tbody tr th {\n",
       "        vertical-align: top;\n",
       "    }\n",
       "\n",
       "    .dataframe thead th {\n",
       "        text-align: right;\n",
       "    }\n",
       "</style>\n",
       "<table border=\"1\" class=\"dataframe\">\n",
       "  <thead>\n",
       "    <tr style=\"text-align: right;\">\n",
       "      <th></th>\n",
       "      <th>Sine</th>\n",
       "      <th>pred</th>\n",
       "    </tr>\n",
       "  </thead>\n",
       "  <tbody>\n",
       "    <tr>\n",
       "      <th>45.1</th>\n",
       "      <td>0.899097</td>\n",
       "      <td>0.887427</td>\n",
       "    </tr>\n",
       "    <tr>\n",
       "      <th>45.2</th>\n",
       "      <td>0.938307</td>\n",
       "      <td>0.918122</td>\n",
       "    </tr>\n",
       "    <tr>\n",
       "      <th>45.3</th>\n",
       "      <td>0.968142</td>\n",
       "      <td>0.936488</td>\n",
       "    </tr>\n",
       "    <tr>\n",
       "      <th>45.4</th>\n",
       "      <td>0.988304</td>\n",
       "      <td>0.946048</td>\n",
       "    </tr>\n",
       "    <tr>\n",
       "      <th>45.5</th>\n",
       "      <td>0.998591</td>\n",
       "      <td>0.943298</td>\n",
       "    </tr>\n",
       "    <tr>\n",
       "      <th>45.6</th>\n",
       "      <td>0.998900</td>\n",
       "      <td>0.930327</td>\n",
       "    </tr>\n",
       "    <tr>\n",
       "      <th>45.7</th>\n",
       "      <td>0.989229</td>\n",
       "      <td>0.907281</td>\n",
       "    </tr>\n",
       "    <tr>\n",
       "      <th>45.8</th>\n",
       "      <td>0.969673</td>\n",
       "      <td>0.875101</td>\n",
       "    </tr>\n",
       "    <tr>\n",
       "      <th>45.9</th>\n",
       "      <td>0.940429</td>\n",
       "      <td>0.832764</td>\n",
       "    </tr>\n",
       "    <tr>\n",
       "      <th>46.0</th>\n",
       "      <td>0.901788</td>\n",
       "      <td>0.781686</td>\n",
       "    </tr>\n",
       "    <tr>\n",
       "      <th>46.1</th>\n",
       "      <td>0.854137</td>\n",
       "      <td>0.722776</td>\n",
       "    </tr>\n",
       "    <tr>\n",
       "      <th>46.2</th>\n",
       "      <td>0.797952</td>\n",
       "      <td>0.656451</td>\n",
       "    </tr>\n",
       "    <tr>\n",
       "      <th>46.3</th>\n",
       "      <td>0.733794</td>\n",
       "      <td>0.584181</td>\n",
       "    </tr>\n",
       "    <tr>\n",
       "      <th>46.4</th>\n",
       "      <td>0.662304</td>\n",
       "      <td>0.505468</td>\n",
       "    </tr>\n",
       "    <tr>\n",
       "      <th>46.5</th>\n",
       "      <td>0.584197</td>\n",
       "      <td>0.421351</td>\n",
       "    </tr>\n",
       "    <tr>\n",
       "      <th>46.6</th>\n",
       "      <td>0.500252</td>\n",
       "      <td>0.332941</td>\n",
       "    </tr>\n",
       "    <tr>\n",
       "      <th>46.7</th>\n",
       "      <td>0.411309</td>\n",
       "      <td>0.239959</td>\n",
       "    </tr>\n",
       "    <tr>\n",
       "      <th>46.8</th>\n",
       "      <td>0.318257</td>\n",
       "      <td>0.144003</td>\n",
       "    </tr>\n",
       "    <tr>\n",
       "      <th>46.9</th>\n",
       "      <td>0.222024</td>\n",
       "      <td>0.045593</td>\n",
       "    </tr>\n",
       "    <tr>\n",
       "      <th>47.0</th>\n",
       "      <td>0.123573</td>\n",
       "      <td>-0.054736</td>\n",
       "    </tr>\n",
       "    <tr>\n",
       "      <th>47.1</th>\n",
       "      <td>0.023888</td>\n",
       "      <td>-0.156390</td>\n",
       "    </tr>\n",
       "    <tr>\n",
       "      <th>47.2</th>\n",
       "      <td>-0.076037</td>\n",
       "      <td>-0.257925</td>\n",
       "    </tr>\n",
       "    <tr>\n",
       "      <th>47.3</th>\n",
       "      <td>-0.175201</td>\n",
       "      <td>-0.358909</td>\n",
       "    </tr>\n",
       "    <tr>\n",
       "      <th>47.4</th>\n",
       "      <td>-0.272615</td>\n",
       "      <td>-0.457355</td>\n",
       "    </tr>\n",
       "    <tr>\n",
       "      <th>47.5</th>\n",
       "      <td>-0.367305</td>\n",
       "      <td>-0.554060</td>\n",
       "    </tr>\n",
       "    <tr>\n",
       "      <th>47.6</th>\n",
       "      <td>-0.458325</td>\n",
       "      <td>-0.646458</td>\n",
       "    </tr>\n",
       "    <tr>\n",
       "      <th>47.7</th>\n",
       "      <td>-0.544766</td>\n",
       "      <td>-0.734575</td>\n",
       "    </tr>\n",
       "    <tr>\n",
       "      <th>47.8</th>\n",
       "      <td>-0.625764</td>\n",
       "      <td>-0.816713</td>\n",
       "    </tr>\n",
       "    <tr>\n",
       "      <th>47.9</th>\n",
       "      <td>-0.700509</td>\n",
       "      <td>-0.892351</td>\n",
       "    </tr>\n",
       "    <tr>\n",
       "      <th>48.0</th>\n",
       "      <td>-0.768255</td>\n",
       "      <td>-0.960590</td>\n",
       "    </tr>\n",
       "    <tr>\n",
       "      <th>48.1</th>\n",
       "      <td>-0.828324</td>\n",
       "      <td>-1.020707</td>\n",
       "    </tr>\n",
       "    <tr>\n",
       "      <th>48.2</th>\n",
       "      <td>-0.880118</td>\n",
       "      <td>-1.071243</td>\n",
       "    </tr>\n",
       "    <tr>\n",
       "      <th>48.3</th>\n",
       "      <td>-0.923117</td>\n",
       "      <td>-1.112552</td>\n",
       "    </tr>\n",
       "    <tr>\n",
       "      <th>48.4</th>\n",
       "      <td>-0.956893</td>\n",
       "      <td>-1.143634</td>\n",
       "    </tr>\n",
       "    <tr>\n",
       "      <th>48.5</th>\n",
       "      <td>-0.981108</td>\n",
       "      <td>-1.164353</td>\n",
       "    </tr>\n",
       "    <tr>\n",
       "      <th>48.6</th>\n",
       "      <td>-0.995521</td>\n",
       "      <td>-1.174468</td>\n",
       "    </tr>\n",
       "    <tr>\n",
       "      <th>48.7</th>\n",
       "      <td>-0.999986</td>\n",
       "      <td>-1.173818</td>\n",
       "    </tr>\n",
       "    <tr>\n",
       "      <th>48.8</th>\n",
       "      <td>-0.994460</td>\n",
       "      <td>-1.162534</td>\n",
       "    </tr>\n",
       "    <tr>\n",
       "      <th>48.9</th>\n",
       "      <td>-0.978997</td>\n",
       "      <td>-1.140834</td>\n",
       "    </tr>\n",
       "    <tr>\n",
       "      <th>49.0</th>\n",
       "      <td>-0.953753</td>\n",
       "      <td>-1.108758</td>\n",
       "    </tr>\n",
       "    <tr>\n",
       "      <th>49.1</th>\n",
       "      <td>-0.918979</td>\n",
       "      <td>-1.066934</td>\n",
       "    </tr>\n",
       "    <tr>\n",
       "      <th>49.2</th>\n",
       "      <td>-0.875023</td>\n",
       "      <td>-1.015568</td>\n",
       "    </tr>\n",
       "    <tr>\n",
       "      <th>49.3</th>\n",
       "      <td>-0.822324</td>\n",
       "      <td>-0.955198</td>\n",
       "    </tr>\n",
       "    <tr>\n",
       "      <th>49.4</th>\n",
       "      <td>-0.761408</td>\n",
       "      <td>-0.886772</td>\n",
       "    </tr>\n",
       "    <tr>\n",
       "      <th>49.5</th>\n",
       "      <td>-0.692885</td>\n",
       "      <td>-0.810746</td>\n",
       "    </tr>\n",
       "    <tr>\n",
       "      <th>49.6</th>\n",
       "      <td>-0.617439</td>\n",
       "      <td>-0.727600</td>\n",
       "    </tr>\n",
       "    <tr>\n",
       "      <th>49.7</th>\n",
       "      <td>-0.535823</td>\n",
       "      <td>-0.638367</td>\n",
       "    </tr>\n",
       "    <tr>\n",
       "      <th>49.8</th>\n",
       "      <td>-0.448854</td>\n",
       "      <td>-0.543415</td>\n",
       "    </tr>\n",
       "    <tr>\n",
       "      <th>49.9</th>\n",
       "      <td>-0.357400</td>\n",
       "      <td>-0.444126</td>\n",
       "    </tr>\n",
       "    <tr>\n",
       "      <th>50.0</th>\n",
       "      <td>-0.262375</td>\n",
       "      <td>-0.340953</td>\n",
       "    </tr>\n",
       "  </tbody>\n",
       "</table>\n",
       "</div>"
      ],
      "text/plain": [
       "          Sine      pred\n",
       "45.1  0.899097  0.887427\n",
       "45.2  0.938307  0.918122\n",
       "45.3  0.968142  0.936488\n",
       "45.4  0.988304  0.946048\n",
       "45.5  0.998591  0.943298\n",
       "45.6  0.998900  0.930327\n",
       "45.7  0.989229  0.907281\n",
       "45.8  0.969673  0.875101\n",
       "45.9  0.940429  0.832764\n",
       "46.0  0.901788  0.781686\n",
       "46.1  0.854137  0.722776\n",
       "46.2  0.797952  0.656451\n",
       "46.3  0.733794  0.584181\n",
       "46.4  0.662304  0.505468\n",
       "46.5  0.584197  0.421351\n",
       "46.6  0.500252  0.332941\n",
       "46.7  0.411309  0.239959\n",
       "46.8  0.318257  0.144003\n",
       "46.9  0.222024  0.045593\n",
       "47.0  0.123573 -0.054736\n",
       "47.1  0.023888 -0.156390\n",
       "47.2 -0.076037 -0.257925\n",
       "47.3 -0.175201 -0.358909\n",
       "47.4 -0.272615 -0.457355\n",
       "47.5 -0.367305 -0.554060\n",
       "47.6 -0.458325 -0.646458\n",
       "47.7 -0.544766 -0.734575\n",
       "47.8 -0.625764 -0.816713\n",
       "47.9 -0.700509 -0.892351\n",
       "48.0 -0.768255 -0.960590\n",
       "48.1 -0.828324 -1.020707\n",
       "48.2 -0.880118 -1.071243\n",
       "48.3 -0.923117 -1.112552\n",
       "48.4 -0.956893 -1.143634\n",
       "48.5 -0.981108 -1.164353\n",
       "48.6 -0.995521 -1.174468\n",
       "48.7 -0.999986 -1.173818\n",
       "48.8 -0.994460 -1.162534\n",
       "48.9 -0.978997 -1.140834\n",
       "49.0 -0.953753 -1.108758\n",
       "49.1 -0.918979 -1.066934\n",
       "49.2 -0.875023 -1.015568\n",
       "49.3 -0.822324 -0.955198\n",
       "49.4 -0.761408 -0.886772\n",
       "49.5 -0.692885 -0.810746\n",
       "49.6 -0.617439 -0.727600\n",
       "49.7 -0.535823 -0.638367\n",
       "49.8 -0.448854 -0.543415\n",
       "49.9 -0.357400 -0.444126\n",
       "50.0 -0.262375 -0.340953"
      ]
     },
     "execution_count": 80,
     "metadata": {},
     "output_type": "execute_result"
    }
   ],
   "source": [
    "test_df"
   ]
  },
  {
   "cell_type": "code",
   "execution_count": 81,
   "metadata": {},
   "outputs": [
    {
     "data": {
      "text/plain": [
       "<matplotlib.axes._subplots.AxesSubplot at 0x7fe82c666a90>"
      ]
     },
     "execution_count": 81,
     "metadata": {},
     "output_type": "execute_result"
    },
    {
     "data": {
      "image/png": "[encoded data removed]",
      "text/plain": [
       "<Figure size 432x288 with 1 Axes>"
      ]
     },
     "metadata": {
      "needs_background": "light"
     },
     "output_type": "display_data"
    }
   ],
   "source": [
    "test_df.plot()"
   ]
  },
  {
   "cell_type": "code",
   "execution_count": 82,
   "metadata": {},
   "outputs": [],
   "source": [
    "model_1 = Sequential()\n",
    "model_1.add(LSTM(50, input_shape=(length, n_features)))\n",
    "model_1.add(Dense(1))\n",
    "model_1.compile(optimizer='adam', loss='mse')"
   ]
  },
  {
   "cell_type": "code",
   "execution_count": null,
   "metadata": {},
   "outputs": [
    {
     "name": "stdout",
     "output_type": "stream",
     "text": [
      "WARNING:tensorflow:sample_weight modes were coerced from\n",
      "  ...\n",
      "    to  \n",
      "  ['...']\n",
      "Train for 401 steps\n",
      "Epoch 1/20\n",
      "401/401 [==============================] - 24s 61ms/step - loss: 0.0183\n",
      "Epoch 2/20\n",
      "261/401 [==================>...........] - ETA: 7s - loss: 3.0084e-04"
     ]
    }
   ],
   "source": [
    "model_1.fit(generator, epochs=20)"
   ]
  },
  {
   "cell_type": "code",
   "execution_count": null,
   "metadata": {},
   "outputs": [],
   "source": []
  }
 ],
 "metadata": {
  "kernelspec": {
   "display_name": "Python 3",
   "language": "python",
   "name": "python3"
  },
  "language_info": {
   "codemirror_mode": {
    "name": "ipython",
    "version": 3
   },
   "file_extension": ".py",
   "mimetype": "text/x-python",
   "name": "python",
   "nbconvert_exporter": "python",
   "pygments_lexer": "ipython3",
   "version": "3.7.6"
  }
 },
 "nbformat": 4,
 "nbformat_minor": 4
}
