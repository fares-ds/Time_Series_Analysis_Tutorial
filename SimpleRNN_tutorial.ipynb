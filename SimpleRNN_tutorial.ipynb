{
 "cells": [
  {
   "cell_type": "markdown",
   "metadata": {},
   "source": [
    "# 1. Load in the data"
   ]
  },
  {
   "cell_type": "code",
   "execution_count": 1,
   "metadata": {},
   "outputs": [],
   "source": [
    "import pandas as pd\n",
    "import numpy as np\n",
    "import matplotlib.pyplot as plt"
   ]
  },
  {
   "cell_type": "code",
   "execution_count": 2,
   "metadata": {},
   "outputs": [],
   "source": [
    "from tensorflow.keras.layers import Input, SimpleRNN, Dense, Flatten\n",
    "from tensorflow.keras.models import Model\n",
    "from tensorflow.keras.optimizers import SGD, Adam"
   ]
  },
  {
   "cell_type": "code",
   "execution_count": 4,
   "metadata": {},
   "outputs": [
    {
     "data": {
      "text/plain": [
       "[<matplotlib.lines.Line2D at 0x7f5fd0437e90>]"
      ]
     },
     "execution_count": 4,
     "metadata": {},
     "output_type": "execute_result"
    },
    {
     "data": {
      "image/png": "[encoded data removed]",
      "text/plain": [
       "<Figure size 432x288 with 1 Axes>"
      ]
     },
     "metadata": {
      "needs_background": "light"
     },
     "output_type": "display_data"
    }
   ],
   "source": [
    "series = np.sin(0.1 * np.arange(200)) #+ np.random.randn(200) * 0.1\n",
    "\n",
    "plt.plot(series)"
   ]
  },
  {
   "cell_type": "code",
   "execution_count": 5,
   "metadata": {},
   "outputs": [
    {
     "name": "stdout",
     "output_type": "stream",
     "text": [
      "X.shape (190, 10, 1), Y.shape (190,)\n"
     ]
    }
   ],
   "source": [
    "### build the dataset\n",
    "T = 10\n",
    "D = 1\n",
    "X = []\n",
    "Y = []\n",
    "for t in range(len(series) - T):\n",
    "    x = series[t:t+T]\n",
    "    X.append(x)\n",
    "    y = series[t+T]\n",
    "    Y.append(y)\n",
    "    \n",
    "X = np.array(X).reshape(-1, T, 1)\n",
    "Y = np.array(Y)\n",
    "N = len(X)\n",
    "print(f\"X.shape {X.shape}, Y.shape {Y.shape}\")"
   ]
  },
  {
   "cell_type": "markdown",
   "metadata": {},
   "source": [
    "# 2. Build the model"
   ]
  },
  {
   "cell_type": "code",
   "execution_count": 8,
   "metadata": {
    "scrolled": true
   },
   "outputs": [
    {
     "name": "stdout",
     "output_type": "stream",
     "text": [
      "Train on 95 samples, validate on 95 samples\n",
      "Epoch 1/80\n",
      "95/95 [==============================] - 2s 20ms/sample - loss: 0.9970 - val_loss: 0.1182\n",
      "Epoch 2/80\n",
      "95/95 [==============================] - 0s 1ms/sample - loss: 0.1444 - val_loss: 0.0601\n",
      "Epoch 3/80\n",
      "95/95 [==============================] - 0s 1ms/sample - loss: 0.0758 - val_loss: 0.0432\n",
      "Epoch 4/80\n",
      "95/95 [==============================] - 0s 1ms/sample - loss: 0.0642 - val_loss: 0.0309\n",
      "Epoch 5/80\n",
      "95/95 [==============================] - 0s 886us/sample - loss: 0.0354 - val_loss: 0.0361\n",
      "Epoch 6/80\n",
      "95/95 [==============================] - 0s 1ms/sample - loss: 0.0336 - val_loss: 0.0441\n",
      "Epoch 7/80\n",
      "95/95 [==============================] - 0s 2ms/sample - loss: 0.0332 - val_loss: 0.0418\n",
      "Epoch 8/80\n",
      "95/95 [==============================] - 0s 1ms/sample - loss: 0.0230 - val_loss: 0.0323\n",
      "Epoch 9/80\n",
      "95/95 [==============================] - 0s 1ms/sample - loss: 0.0248 - val_loss: 0.0272\n",
      "Epoch 10/80\n",
      "95/95 [==============================] - 0s 1ms/sample - loss: 0.0183 - val_loss: 0.0286\n",
      "Epoch 11/80\n",
      "95/95 [==============================] - 0s 1ms/sample - loss: 0.0190 - val_loss: 0.0265\n",
      "Epoch 12/80\n",
      "95/95 [==============================] - 0s 1ms/sample - loss: 0.0184 - val_loss: 0.0239\n",
      "Epoch 13/80\n",
      "95/95 [==============================] - 0s 1ms/sample - loss: 0.0109 - val_loss: 0.0150\n",
      "Epoch 14/80\n",
      "95/95 [==============================] - 0s 1ms/sample - loss: 0.0148 - val_loss: 0.0130\n",
      "Epoch 15/80\n",
      "95/95 [==============================] - 0s 1ms/sample - loss: 0.0096 - val_loss: 0.0201\n",
      "Epoch 16/80\n",
      "95/95 [==============================] - 0s 948us/sample - loss: 0.0099 - val_loss: 0.0126\n",
      "Epoch 17/80\n",
      "95/95 [==============================] - 0s 912us/sample - loss: 0.0089 - val_loss: 0.0117\n",
      "Epoch 18/80\n",
      "95/95 [==============================] - 0s 1ms/sample - loss: 0.0079 - val_loss: 0.0116\n",
      "Epoch 19/80\n",
      "95/95 [==============================] - 0s 1ms/sample - loss: 0.0079 - val_loss: 0.0120\n",
      "Epoch 20/80\n",
      "95/95 [==============================] - 0s 1ms/sample - loss: 0.0073 - val_loss: 0.0086\n",
      "Epoch 21/80\n",
      "95/95 [==============================] - 0s 1ms/sample - loss: 0.0070 - val_loss: 0.0094\n",
      "Epoch 22/80\n",
      "95/95 [==============================] - 0s 1ms/sample - loss: 0.0066 - val_loss: 0.0097\n",
      "Epoch 23/80\n",
      "95/95 [==============================] - 0s 1ms/sample - loss: 0.0064 - val_loss: 0.0089\n",
      "Epoch 24/80\n",
      "95/95 [==============================] - 0s 1ms/sample - loss: 0.0065 - val_loss: 0.0079\n",
      "Epoch 25/80\n",
      "95/95 [==============================] - 0s 1ms/sample - loss: 0.0064 - val_loss: 0.0095\n",
      "Epoch 26/80\n",
      "95/95 [==============================] - 0s 1ms/sample - loss: 0.0059 - val_loss: 0.0074\n",
      "Epoch 27/80\n",
      "95/95 [==============================] - 0s 1ms/sample - loss: 0.0058 - val_loss: 0.0077\n",
      "Epoch 28/80\n",
      "95/95 [==============================] - 0s 1ms/sample - loss: 0.0056 - val_loss: 0.0088\n",
      "Epoch 29/80\n",
      "95/95 [==============================] - 0s 1ms/sample - loss: 0.0056 - val_loss: 0.0071\n",
      "Epoch 30/80\n",
      "95/95 [==============================] - 0s 1ms/sample - loss: 0.0053 - val_loss: 0.0074\n",
      "Epoch 31/80\n",
      "95/95 [==============================] - 0s 1ms/sample - loss: 0.0055 - val_loss: 0.0072\n",
      "Epoch 32/80\n",
      "95/95 [==============================] - 0s 1ms/sample - loss: 0.0050 - val_loss: 0.0080\n",
      "Epoch 33/80\n",
      "95/95 [==============================] - 0s 1ms/sample - loss: 0.0051 - val_loss: 0.0070\n",
      "Epoch 34/80\n",
      "95/95 [==============================] - 0s 943us/sample - loss: 0.0051 - val_loss: 0.0065\n",
      "Epoch 35/80\n",
      "95/95 [==============================] - ETA: 0s - loss: 0.005 - 0s 1ms/sample - loss: 0.0049 - val_loss: 0.0077\n",
      "Epoch 36/80\n",
      "95/95 [==============================] - 0s 1ms/sample - loss: 0.0048 - val_loss: 0.0064\n",
      "Epoch 37/80\n",
      "95/95 [==============================] - 0s 1ms/sample - loss: 0.0047 - val_loss: 0.0064\n",
      "Epoch 38/80\n",
      "95/95 [==============================] - 0s 1ms/sample - loss: 0.0045 - val_loss: 0.0067\n",
      "Epoch 39/80\n",
      "95/95 [==============================] - 0s 1ms/sample - loss: 0.0046 - val_loss: 0.0064\n",
      "Epoch 40/80\n",
      "95/95 [==============================] - 0s 1ms/sample - loss: 0.0046 - val_loss: 0.0058\n",
      "Epoch 41/80\n",
      "95/95 [==============================] - 0s 2ms/sample - loss: 0.0043 - val_loss: 0.0067\n",
      "Epoch 42/80\n",
      "95/95 [==============================] - 0s 2ms/sample - loss: 0.0046 - val_loss: 0.0058\n",
      "Epoch 43/80\n",
      "95/95 [==============================] - 0s 1ms/sample - loss: 0.0042 - val_loss: 0.0064\n",
      "Epoch 44/80\n",
      "95/95 [==============================] - 0s 1ms/sample - loss: 0.0042 - val_loss: 0.0059\n",
      "Epoch 45/80\n",
      "95/95 [==============================] - 0s 1ms/sample - loss: 0.0042 - val_loss: 0.0052\n",
      "Epoch 46/80\n",
      "95/95 [==============================] - 0s 2ms/sample - loss: 0.0040 - val_loss: 0.0058\n",
      "Epoch 47/80\n",
      "95/95 [==============================] - 0s 1ms/sample - loss: 0.0040 - val_loss: 0.0059\n",
      "Epoch 48/80\n",
      "95/95 [==============================] - 0s 2ms/sample - loss: 0.0039 - val_loss: 0.0054\n",
      "Epoch 49/80\n",
      "95/95 [==============================] - 0s 2ms/sample - loss: 0.0038 - val_loss: 0.0051\n",
      "Epoch 50/80\n",
      "95/95 [==============================] - 0s 1ms/sample - loss: 0.0038 - val_loss: 0.0054\n",
      "Epoch 51/80\n",
      "95/95 [==============================] - 0s 1ms/sample - loss: 0.0041 - val_loss: 0.0058\n",
      "Epoch 52/80\n",
      "95/95 [==============================] - 0s 1ms/sample - loss: 0.0039 - val_loss: 0.0045\n",
      "Epoch 53/80\n",
      "95/95 [==============================] - 0s 1ms/sample - loss: 0.0037 - val_loss: 0.0060\n",
      "Epoch 54/80\n",
      "95/95 [==============================] - 0s 1ms/sample - loss: 0.0039 - val_loss: 0.0054\n",
      "Epoch 55/80\n",
      "95/95 [==============================] - 0s 1ms/sample - loss: 0.0035 - val_loss: 0.0046\n",
      "Epoch 56/80\n",
      "95/95 [==============================] - 0s 1ms/sample - loss: 0.0037 - val_loss: 0.0053\n",
      "Epoch 57/80\n",
      "95/95 [==============================] - 0s 1ms/sample - loss: 0.0036 - val_loss: 0.0051\n",
      "Epoch 58/80\n",
      "95/95 [==============================] - 0s 1ms/sample - loss: 0.0039 - val_loss: 0.0043\n",
      "Epoch 59/80\n",
      "95/95 [==============================] - 0s 1ms/sample - loss: 0.0036 - val_loss: 0.0063\n",
      "Epoch 60/80\n",
      "95/95 [==============================] - 0s 1ms/sample - loss: 0.0035 - val_loss: 0.0044\n",
      "Epoch 61/80\n",
      "95/95 [==============================] - 0s 1ms/sample - loss: 0.0034 - val_loss: 0.0044\n",
      "Epoch 62/80\n",
      "95/95 [==============================] - 0s 1ms/sample - loss: 0.0035 - val_loss: 0.0052\n",
      "Epoch 63/80\n",
      "95/95 [==============================] - 0s 1ms/sample - loss: 0.0033 - val_loss: 0.0041\n",
      "Epoch 64/80\n",
      "95/95 [==============================] - 0s 1ms/sample - loss: 0.0032 - val_loss: 0.0048\n",
      "Epoch 65/80\n",
      "95/95 [==============================] - 0s 1ms/sample - loss: 0.0034 - val_loss: 0.0049\n",
      "Epoch 66/80\n",
      "95/95 [==============================] - 0s 1ms/sample - loss: 0.0032 - val_loss: 0.0039\n",
      "Epoch 67/80\n",
      "95/95 [==============================] - 0s 1ms/sample - loss: 0.0034 - val_loss: 0.0051\n",
      "Epoch 68/80\n",
      "95/95 [==============================] - 0s 2ms/sample - loss: 0.0032 - val_loss: 0.0039\n",
      "Epoch 69/80\n",
      "95/95 [==============================] - 0s 1ms/sample - loss: 0.0031 - val_loss: 0.0042\n",
      "Epoch 70/80\n",
      "95/95 [==============================] - 0s 1ms/sample - loss: 0.0032 - val_loss: 0.0051\n",
      "Epoch 71/80\n",
      "95/95 [==============================] - 0s 1ms/sample - loss: 0.0030 - val_loss: 0.0036\n",
      "Epoch 72/80\n",
      "95/95 [==============================] - 0s 1ms/sample - loss: 0.0031 - val_loss: 0.0043\n",
      "Epoch 73/80\n",
      "95/95 [==============================] - 0s 1ms/sample - loss: 0.0030 - val_loss: 0.0045\n",
      "Epoch 74/80\n",
      "95/95 [==============================] - 0s 1ms/sample - loss: 0.0029 - val_loss: 0.0039\n",
      "Epoch 75/80\n",
      "95/95 [==============================] - 0s 1ms/sample - loss: 0.0029 - val_loss: 0.0039\n",
      "Epoch 76/80\n",
      "95/95 [==============================] - 0s 1ms/sample - loss: 0.0028 - val_loss: 0.0043\n",
      "Epoch 77/80\n",
      "95/95 [==============================] - 0s 1ms/sample - loss: 0.0030 - val_loss: 0.0037\n",
      "Epoch 78/80\n",
      "95/95 [==============================] - 0s 1ms/sample - loss: 0.0027 - val_loss: 0.0044\n",
      "Epoch 79/80\n",
      "95/95 [==============================] - 0s 1ms/sample - loss: 0.0028 - val_loss: 0.0039\n",
      "Epoch 80/80\n",
      "95/95 [==============================] - 0s 1ms/sample - loss: 0.0027 - val_loss: 0.0039\n"
     ]
    }
   ],
   "source": [
    "i = Input(shape=(T, 1))\n",
    "x = SimpleRNN(5, activation='relu')(i)\n",
    "x = Dense(1)(x)\n",
    "model = Model(i, x)\n",
    "model.compile(loss='mse', optimizer=Adam(lr=0.1))\n",
    "\n",
    "r = model.fit(X[:-N//2], Y[:N//2], epochs=80, validation_data=(X[-N//2:], Y[N//2:]))"
   ]
  },
  {
   "cell_type": "code",
   "execution_count": 10,
   "metadata": {},
   "outputs": [
    {
     "data": {
      "text/plain": [
       "<matplotlib.legend.Legend at 0x7f5fb82246d0>"
      ]
     },
     "execution_count": 10,
     "metadata": {},
     "output_type": "execute_result"
    },
    {
     "data": {
      "image/png": "[encoded data removed]",
      "text/plain": [
       "<Figure size 432x288 with 1 Axes>"
      ]
     },
     "metadata": {
      "needs_background": "light"
     },
     "output_type": "display_data"
    }
   ],
   "source": [
    "plt.plot(r.history['loss'], label='loss')\n",
    "plt.plot(r.history['val_loss'], label='val_loss')\n",
    "plt.legend()"
   ]
  },
  {
   "cell_type": "code",
   "execution_count": 11,
   "metadata": {},
   "outputs": [],
   "source": [
    "# Wrong forecast using true targets\n",
    "\n",
    "validation_target = Y[-N//2:]\n",
    "validation_predicitions = []\n",
    "\n",
    "# index of first validation input\n",
    "i = -N // 2\n",
    "\n",
    "while len(validation_predicitions) < len(validation_target):\n",
    "    p = model.predict(X[i].reshape(1, -1, 1))[0, 0]\n",
    "    i += 1\n",
    "    \n",
    "    # update the predicitions list\n",
    "    validation_predicitions.append(p)"
   ]
  },
  {
   "cell_type": "code",
   "execution_count": 12,
   "metadata": {},
   "outputs": [
    {
     "data": {
      "text/plain": [
       "<matplotlib.legend.Legend at 0x7f5f987995d0>"
      ]
     },
     "execution_count": 12,
     "metadata": {},
     "output_type": "execute_result"
    },
    {
     "data": {
      "image/png": "[encoded data removed]",
      "text/plain": [
       "<Figure size 432x288 with 1 Axes>"
      ]
     },
     "metadata": {
      "needs_background": "light"
     },
     "output_type": "display_data"
    }
   ],
   "source": [
    "plt.plot(validation_target, label='forecast target')\n",
    "plt.plot(validation_predicitions, label='forecast predicition')\n",
    "plt.legend()"
   ]
  },
  {
   "cell_type": "code",
   "execution_count": 13,
   "metadata": {},
   "outputs": [],
   "source": [
    "# Forecast future values (use only self-predictions for making future predictions)\n",
    "\n",
    "validation_target = Y[-N//2:]\n",
    "validation_predictions = []\n",
    "\n",
    "# last train input\n",
    "last_x = X[-N//2] # 1-D array of length T\n",
    "\n",
    "while len(validation_predictions) < len(validation_target):\n",
    "    p = model.predict(last_x.reshape(1, -1, 1))[0, 0] # 1x1 array -> scalar\n",
    "    \n",
    "    # update the predictions list\n",
    "    validation_predictions.append(p)\n",
    "    \n",
    "    # make the new input\n",
    "    last_x = np.roll(last_x, -1)\n",
    "    last_x[-1] = p"
   ]
  },
  {
   "cell_type": "code",
   "execution_count": 14,
   "metadata": {},
   "outputs": [
    {
     "data": {
      "text/plain": [
       "<matplotlib.legend.Legend at 0x7f5f980ae510>"
      ]
     },
     "execution_count": 14,
     "metadata": {},
     "output_type": "execute_result"
    },
    {
     "data": {
      "image/png": "[encoded data removed]",
      "text/plain": [
       "<Figure size 432x288 with 1 Axes>"
      ]
     },
     "metadata": {
      "needs_background": "light"
     },
     "output_type": "display_data"
    }
   ],
   "source": [
    "plt.plot(validation_target, label='forecast target')\n",
    "plt.plot(validation_predicitions, label='forecast predicition')\n",
    "plt.legend()"
   ]
  },
  {
   "cell_type": "markdown",
   "metadata": {},
   "source": [
    "# 3. Train the model"
   ]
  },
  {
   "cell_type": "code",
   "execution_count": null,
   "metadata": {},
   "outputs": [],
   "source": []
  },
  {
   "cell_type": "code",
   "execution_count": null,
   "metadata": {},
   "outputs": [],
   "source": []
  },
  {
   "cell_type": "code",
   "execution_count": null,
   "metadata": {},
   "outputs": [],
   "source": []
  },
  {
   "cell_type": "markdown",
   "metadata": {},
   "source": [
    "# 4. Evaluate the model"
   ]
  },
  {
   "cell_type": "code",
   "execution_count": null,
   "metadata": {},
   "outputs": [],
   "source": []
  },
  {
   "cell_type": "code",
   "execution_count": null,
   "metadata": {},
   "outputs": [],
   "source": []
  },
  {
   "cell_type": "code",
   "execution_count": null,
   "metadata": {},
   "outputs": [],
   "source": []
  },
  {
   "cell_type": "code",
   "execution_count": null,
   "metadata": {},
   "outputs": [],
   "source": []
  },
  {
   "cell_type": "markdown",
   "metadata": {},
   "source": [
    "# 5. Make predictions"
   ]
  },
  {
   "cell_type": "code",
   "execution_count": null,
   "metadata": {},
   "outputs": [],
   "source": []
  },
  {
   "cell_type": "code",
   "execution_count": null,
   "metadata": {},
   "outputs": [],
   "source": []
  },
  {
   "cell_type": "code",
   "execution_count": null,
   "metadata": {},
   "outputs": [],
   "source": []
  },
  {
   "cell_type": "code",
   "execution_count": null,
   "metadata": {},
   "outputs": [],
   "source": []
  }
 ],
 "metadata": {
  "kernelspec": {
   "display_name": "Python 3",
   "language": "python",
   "name": "python3"
  },
  "language_info": {
   "codemirror_mode": {
    "name": "ipython",
    "version": 3
   },
   "file_extension": ".py",
   "mimetype": "text/x-python",
   "name": "python",
   "nbconvert_exporter": "python",
   "pygments_lexer": "ipython3",
   "version": "3.7.6"
  }
 },
 "nbformat": 4,
 "nbformat_minor": 4
}
